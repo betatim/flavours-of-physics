{
 "cells": [
  {
   "cell_type": "markdown",
   "metadata": {},
   "source": [
    "# Kaggle's Flavours of Physics: the second-ranked solution\n",
    "\n",
    "This is a solution ranked second on the [Private Leaderboard](https://www.kaggle.com/c/flavours-of-physics/leaderboard) of the Kaggle [\"Flavours of Physics: Finding τ → μμμ\"](https://www.kaggle.com/c/flavours-of-physics) competition. The model is based on [gradient boosting](https://en.wikipedia.org/wiki/Gradient_boosting) and implemented in Python with the help of the [XGBoost](https://github.com/dmlc/xgboost) library. It is simply a combination of two XGBoost classifiers (boosters) trained on different sets of features. The first booster is an ensemble of 200 [decision trees](https://en.wikipedia.org/wiki/Decision_tree) targeting mostly geometric features (such as impact parameters and track isolation variables). The second booster consists of 100 trees trained on purely kinematic features. Final prediction is a weighted average of the probabilities predicted by the individual classifiers (with a weight of 0.78 assigned to the first booster). Combining two independent classifiers allows us to easily pass the [correlation test](https://www.kaggle.com/c/flavours-of-physics/details/correlation-test). To pass the [agreement test](https://www.kaggle.com/c/flavours-of-physics/details/agreement-test), the only thing needed is to exclude *SPDhits* from the features used in the training process.\n",
    "\n",
    "Run this notebook to reproduce the second place entry."
   ]
  },
  {
   "cell_type": "code",
   "execution_count": 20,
   "metadata": {
    "collapsed": true
   },
   "outputs": [],
   "source": [
    "import xgboost, os"
   ]
  },
  {
   "cell_type": "code",
   "execution_count": 10,
   "metadata": {
    "collapsed": false
   },
   "outputs": [
    {
     "data": {
      "text/plain": [
       "'0.4'"
      ]
     },
     "execution_count": 10,
     "metadata": {},
     "output_type": "execute_result"
    }
   ],
   "source": [
    "xgboost.__version__"
   ]
  },
  {
   "cell_type": "markdown",
   "metadata": {},
   "source": [
    "## Getting the data\n",
    "\n",
    "You will have to first download the data manually from the [\"Flavours of Physics: Finding τ → μμμ\"](https://www.kaggle.com/c/flavours-of-physics/data) competition webpage. Unfortunately the data is not yet public, so you will have to perform this manual step at the moment. You want to download:\n",
    "\n",
    " * `check_correlation.csv`\n",
    " * `training.csv`\n",
    " * `check_agreement.csv`\n",
    " * `test.csv`\n",
    " \n",
    "After downloading then place them on a publically available webspace like: [dropbox](https://dropbbox.com), [cernbox](https://cernbox.cern.ch) and download them from there."
   ]
  },
  {
   "cell_type": "code",
   "execution_count": null,
   "metadata": {
    "collapsed": false
   },
   "outputs": [],
   "source": [
    "%%bash\n",
    "if [ ! -f data/test.csv ] ; then\n",
    "    wget https://www.dropbox.com/s/i57vmpuaqt19gv6/check_correlation.csv?dl=0 -O data/check_correlation.csv\n",
    "    wget https://www.dropbox.com/s/hydjllrzpu24vyc/training.csv?dl=0 -O data/training.csv\n",
    "    wget https://www.dropbox.com/s/olkwi7jcbq6trze/check_agreement.csv?dl=0 -O data/check_agreement.csv\n",
    "    wget https://www.dropbox.com/s/22hijx45a6pazcp/test.csv?dl=0 -O data/test.csv\n",
    "else\n",
    "    echo \"File 'test.csv' already exists\"\n",
    "fi"
   ]
  },
  {
   "cell_type": "code",
   "execution_count": null,
   "metadata": {
    "collapsed": true
   },
   "outputs": [],
   "source": [
    "assert os.path.exists(\"data/training.csv\"), \"'training.csv' file not found\""
   ]
  },
  {
   "cell_type": "markdown",
   "metadata": {},
   "source": [
    "## Training the model\n",
    "\n",
    "Now we can start training the models that ranked second in the competition. The submission uses the `xgboost` library."
   ]
  },
  {
   "cell_type": "code",
   "execution_count": null,
   "metadata": {
    "collapsed": false
   },
   "outputs": [],
   "source": [
    "# %load parameters.py\n",
    "# https://github.com/gramolin/flavours-of-physics\n",
    "\n",
    "# Random seed:\n",
    "random_state = 1\n",
    "\n",
    "# Weight for the first booster:\n",
    "w1 = 0.78\n",
    "\n",
    "# Numbers of trees:\n",
    "num_trees1 = 200 # Booster 1\n",
    "num_trees2 = 100 # Booster 2\n",
    "\n",
    "# Parameters of the first booster:\n",
    "params1 = {'objective': 'binary:logistic',\n",
    "           'eta': 0.05,\n",
    "           'max_depth': 4,\n",
    "           'scale_pos_weight': 5.,\n",
    "           'silent': 1,\n",
    "           'seed': random_state}\n",
    "\n",
    "# Parameters of the second booster:\n",
    "params2 = {'objective': 'binary:logistic',\n",
    "           'eta': 0.05,\n",
    "           'max_depth': 4,\n",
    "           'scale_pos_weight': 5.,\n",
    "           'silent': 1,\n",
    "           \"seed\": random_state}\n"
   ]
  },
  {
   "cell_type": "markdown",
   "metadata": {},
   "source": [
    "The hard work happens in [`train.py`](/edit/train.py) and [`predict.py`](/edit/predict.py) which you can both inspect and edit. In addition to the provided features in the data set a few additional ones are calculated:\n",
    "\n",
    "  * __*E*__ is the full energy of the mother particle calculated assuming that the final-state particles p0, p1, and p2 are muons (*E* = *E0* + *E1* + *E2*).\n",
    "  * __*FlightDistanceSig*__ is the ratio (*FlightDistance* / *FlightDistanceError*).\n",
    "  * __*DOCA_sum*__ is the sum (*DOCAone* + *DOCAtwo* + *DOCAthree*).\n",
    "  * __*isolation_sum*__ is the sum (*isolationa* + *isolationb* + *isolationc* + *isolationd* + *isolatione* + *isolationf*).\n",
    "  * __*IsoBDT_sum*__ is the sum (*p0_IsoBDT* + *p1_IsoBDT* + *p2_IsoBDT*).\n",
    "  * __*track_Chi2Dof*__ is calculated as sqrt[(*p0_track_Chi2Dof* – 1)^2 + (*p1_track_Chi2Dof* – 1)^2 + (*p2_track_Chi2Dof* – 1)^2].\n",
    "  * __*IP_sum*__ is the sum (*p0_IP* + *p1_IP* + *p2_IP*).\n",
    "  * __*IPSig_sum*__ is the sum (*p0_IPSig* + *p1_IPSig* + *p2_IPSig*).\n",
    "  * __*CDF_sum*__ is the sum (*CDF1* + *CDF2* + *CDF3*)."
   ]
  },
  {
   "cell_type": "code",
   "execution_count": null,
   "metadata": {
    "collapsed": true
   },
   "outputs": [],
   "source": [
    "%time\n",
    "%run train.py"
   ]
  },
  {
   "cell_type": "code",
   "execution_count": null,
   "metadata": {
    "collapsed": true
   },
   "outputs": [],
   "source": [
    "assert os.path.exists(\"data/test.csv\"), \"'test.csv' file not found\""
   ]
  },
  {
   "cell_type": "code",
   "execution_count": 21,
   "metadata": {
    "collapsed": true
   },
   "outputs": [],
   "source": [
    "%time\n",
    "%run predict.py"
   ]
  },
  {
   "cell_type": "markdown",
   "metadata": {},
   "source": [
    "## Plotting\n",
    "\n",
    "You can also make some basic plots."
   ]
  },
  {
   "cell_type": "code",
   "execution_count": 23,
   "metadata": {
    "collapsed": true
   },
   "outputs": [],
   "source": [
    "import pandas"
   ]
  },
  {
   "cell_type": "code",
   "execution_count": 24,
   "metadata": {
    "collapsed": true
   },
   "outputs": [],
   "source": [
    "submission = pandas.read_csv('submission.csv', sep=',')"
   ]
  },
  {
   "cell_type": "code",
   "execution_count": 27,
   "metadata": {
    "collapsed": false
   },
   "outputs": [
    {
     "name": "stdout",
     "output_type": "stream",
     "text": [
      "Populating the interactive namespace from numpy and matplotlib\n"
     ]
    }
   ],
   "source": [
    "%pylab inline"
   ]
  },
  {
   "cell_type": "code",
   "execution_count": 29,
   "metadata": {
    "collapsed": false
   },
   "outputs": [
    {
     "data": {
      "image/png": "[encoded data removed]",
      "text/plain": [
       "<matplotlib.figure.Figure at 0x7fa5798e2110>"
      ]
     },
     "metadata": {},
     "output_type": "display_data"
    }
   ],
   "source": [
    "pylab.hist(submission.prediction, bins=100)\n",
    "pass"
   ]
  },
  {
   "cell_type": "code",
   "execution_count": null,
   "metadata": {
    "collapsed": true
   },
   "outputs": [],
   "source": []
  }
 ],
 "metadata": {
  "kernelspec": {
   "display_name": "Python 2",
   "language": "python",
   "name": "python2"
  },
  "language_info": {
   "codemirror_mode": {
    "name": "ipython",
    "version": 2
   },
   "file_extension": ".py",
   "mimetype": "text/x-python",
   "name": "python",
   "nbconvert_exporter": "python",
   "pygments_lexer": "ipython2",
   "version": "2.7.8"
  }
 },
 "nbformat": 4,
 "nbformat_minor": 0
}
